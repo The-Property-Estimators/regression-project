{
 "cells": [
  {
   "cell_type": "code",
   "execution_count": 1,
   "metadata": {},
   "outputs": [],
   "source": [
    "import pandas as pd\n",
    "import numpy as np\n",
    "import os\n",
    "\n",
    "from env import host, user, password"
   ]
  },
  {
   "cell_type": "code",
   "execution_count": 2,
   "metadata": {},
   "outputs": [],
   "source": [
    "def get_connection(db, user=user, host=host, password=password):\n",
    "    return f'mysql+pymysql://{user}:{password}@{host}/{db}'"
   ]
  },
  {
   "cell_type": "code",
   "execution_count": 14,
   "metadata": {},
   "outputs": [
    {
     "name": "stdout",
     "output_type": "stream",
     "text": [
      "<class 'pandas.core.frame.DataFrame'>\n",
      "RangeIndex: 77614 entries, 0 to 77613\n",
      "Data columns (total 16 columns):\n",
      " #   Column                        Non-Null Count  Dtype  \n",
      "---  ------                        --------------  -----  \n",
      " 0   parcelid                      77614 non-null  int64  \n",
      " 1   id                            77614 non-null  int64  \n",
      " 2   bathroomcnt                   77580 non-null  float64\n",
      " 3   bedroomcnt                    77580 non-null  float64\n",
      " 4   calculatedbathnbr             76964 non-null  float64\n",
      " 5   calculatedfinishedsquarefeet  77379 non-null  float64\n",
      " 6   fips                          77580 non-null  float64\n",
      " 7   latitude                      77580 non-null  float64\n",
      " 8   longitude                     77580 non-null  float64\n",
      " 9   regionidcounty                77580 non-null  float64\n",
      " 10  roomcnt                       77580 non-null  float64\n",
      " 11  yearbuilt                     77310 non-null  float64\n",
      " 12  taxvaluedollarcnt             77579 non-null  float64\n",
      " 13  assessmentyear                77580 non-null  float64\n",
      " 14  propertycountylandusecode     77580 non-null  object \n",
      " 15  propertylandusetypeid         77580 non-null  float64\n",
      "dtypes: float64(13), int64(2), object(1)\n",
      "memory usage: 9.5+ MB\n"
     ]
    }
   ],
   "source": [
    "sql_query = '''\n",
    "            SELECT properties_2017.parcelid, properties_2017.id, bathroomcnt, bedroomcnt, calculatedbathnbr, calculatedfinishedsquarefeet, fips, latitude, longitude, regionidcounty, roomcnt, yearbuilt, taxvaluedollarcnt, assessmentyear, propertycountylandusecode, propertylandusetypeid\n",
    "            FROM properties_2017\n",
    "            JOIN predictions_2017 ON properties_2017.parcelid = predictions_2017.parcelid\n",
    "            WHERE transactiondate BETWEEN '2017-05-01' AND '2017-06-30'\n",
    "            AND propertylandusetypeid = '261' OR '262' OR '263' OR '264' OR '268' OR '273' OR '274' OR '275' OR '276' OR '279';\n",
    "            \n",
    "            '''\n",
    "df = pd.read_sql(sql_query, get_connection('zillow'))\n",
    "df.to_csv('zillow_df.csv')\n",
    "df.info()"
   ]
  },
  {
   "cell_type": "code",
   "execution_count": 15,
   "metadata": {},
   "outputs": [],
   "source": [
    "def get_zillow_data():\n",
    "    filename = \"zillow_df.csv\"\n",
    "    if os.path.isfile(filename):\n",
    "        return pd.read_csv(filename)\n",
    "    else:\n",
    "        # read the SQL query into a dataframe\n",
    "        df = pd.read_sql('''SELECT properties_2017.parcelid, properties_2017.id, bathroomcnt, bedroomcnt, calculatedbathnbr, calculatedfinishedsquarefeet, fips, latitude, longitude, regionidcounty, roomcnt, yearbuilt, taxvaluedollarcnt, assessmentyear, propertycountylandusecode, propertylandusetypeid FROM properties_2017 JOIN predictions_2017 ON properties_2017.parcelid = predictions_2017.parcelid WHERE transactiondate BETWEEN '2017-05-01' AND '2017-06-30' AND propertylandusetypeid = '261' OR '262' OR '263' OR '264' OR '268' OR '273' OR '274' OR '275' OR '276' OR '279';''', get_connection('zillow'))\n",
    "        # Write that dataframe to disk for later. Called \"caching\" the data for later.\n",
    "        df.to_file(filename)\n",
    "\n",
    "        # Return the dataframe to the calling code\n",
    "        return df  "
   ]
  },
  {
   "cell_type": "code",
   "execution_count": null,
   "metadata": {},
   "outputs": [],
   "source": []
  }
 ],
 "metadata": {
  "kernelspec": {
   "display_name": "Python 3",
   "language": "python",
   "name": "python3"
  },
  "language_info": {
   "codemirror_mode": {
    "name": "ipython",
    "version": 3
   },
   "file_extension": ".py",
   "mimetype": "text/x-python",
   "name": "python",
   "nbconvert_exporter": "python",
   "pygments_lexer": "ipython3",
   "version": "3.7.6"
  }
 },
 "nbformat": 4,
 "nbformat_minor": 4
}
