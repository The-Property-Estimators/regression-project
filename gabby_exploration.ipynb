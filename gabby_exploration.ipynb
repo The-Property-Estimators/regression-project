{
 "cells": [
  {
   "cell_type": "code",
   "execution_count": 1,
   "metadata": {},
   "outputs": [],
   "source": [
    "# In this kernel, I am setting up my notebook so that I may run all my functions and add ons appropriately\n",
    "from scipy import stats\n",
    "from math import sqrt\n",
    "import pandas as pd\n",
    "import numpy as np\n",
    "import matplotlib.pyplot as plt\n",
    "%matplotlib inline\n",
    "import seaborn as sns\n",
    "\n",
    "\n",
    "\n",
    "\n",
    "from sklearn.model_selection import train_test_split\n",
    "\n",
    "\n",
    "\n",
    "import warnings\n",
    "warnings.filterwarnings(\"ignore\")\n"
   ]
  },
  {
   "cell_type": "markdown",
   "metadata": {},
   "source": [
    "<h2> Hypothesis Testing </h2>\n",
    "<h3> <h3 style= \"color: salmon\"> \n",
    "First Hypothesis<br><br>\n",
    "$H_0$: Lot square footage has no effect on the property values.<b>\n",
    "$H_a$: Lot square footage has an effect on the property values.\n",
    "<br><br><br>\n",
    "Second Hypothesis<br><br>\n",
    "$H_0$: There is no difference in property values between properties with last the transaction in May 2017 and June 2017.<br>\n",
    "$H_a$: There is a difference in property values between properties with last the transaction in May 2017 and June 2017.<br>"
   ]
  },
  {
   "cell_type": "code",
   "execution_count": null,
   "metadata": {},
   "outputs": [],
   "source": []
  }
 ],
 "metadata": {
  "kernelspec": {
   "display_name": "Python 3",
   "language": "python",
   "name": "python3"
  },
  "language_info": {
   "codemirror_mode": {
    "name": "ipython",
    "version": 3
   },
   "file_extension": ".py",
   "mimetype": "text/x-python",
   "name": "python",
   "nbconvert_exporter": "python",
   "pygments_lexer": "ipython3",
   "version": "3.7.6"
  }
 },
 "nbformat": 4,
 "nbformat_minor": 4
}
