{
 "cells": [
  {
   "cell_type": "markdown",
   "metadata": {},
   "source": [
    "# Acquire"
   ]
  },
  {
   "cell_type": "code",
   "execution_count": null,
   "metadata": {},
   "outputs": [],
   "source": [
    "import pandas as pd\n",
    "import numpy as np\n",
    "\n",
    "import seaborn as sns\n",
    "import matplotlib.pyplot as plt\n",
    "\n",
    "from math import sqrt\n",
    "from scipy import stats\n",
    "\n",
    "from sklearn.linear_model import LinearRegression\n",
    "from statsmodels.formula.api import ols\n",
    "from statsmodels.sandbox.regression.predstd import wls_prediction_std\n",
    "from sklearn.metrics import mean_squared_error,r2_score,explained_variance_score\n",
    "from sklearn.feature_selection import SelectKBest, f_regression, RFE\n",
    "\n",
    "import os\n",
    "\n",
    "from env import host, user, password"
   ]
  },
  {
   "cell_type": "code",
   "execution_count": null,
   "metadata": {},
   "outputs": [],
   "source": [
    "def get_connection(db, user=user, host=host, password=password):\n",
    "    return f'mysql+pymysql://{user}:{password}@{host}/{db}'"
   ]
  },
  {
   "cell_type": "markdown",
   "metadata": {},
   "source": [
    "From https://help.rentingwell.com/article/multi-unit-vs-single-unit/:\n",
    "\n",
    "> A **multi-unit property** is a rental property that has been divided into multiple units that are rented independently to different tenants. A duplex, a triplex, or an apartment building would all be multi-unit properties.\n",
    "\n",
    "> A **single-unit property** is a rental property that is rented as a single entity. A condo, a townhouse, or a vacation rental would typically be single-unit properties."
   ]
  },
  {
   "cell_type": "markdown",
   "metadata": {},
   "source": [
    "We only want to predict on single-unit properties, so I will select only single-unit properties from the Zillow data in SQL:\n",
    " * **261 -** Single Family Residential\n",
    " * **262 -** Rural Residence\n",
    " * **263 -** Mobile Home\n",
    " * **264 -** Townhouse\n",
    " * **268 -** Row House\n",
    " * **273 -** Bungalow\n",
    " * **274 -** Zero Lot Line\n",
    " * **275 -** Manufactured, Modular, Prefabricated Homes\n",
    " * **276 -** Patio Home\n",
    " * **279 -** Inferred Single Family Residential"
   ]
  },
  {
   "cell_type": "markdown",
   "metadata": {},
   "source": [
    "> **De-bug:** Why is my SQL query returning blank?"
   ]
  },
  {
   "cell_type": "code",
   "execution_count": null,
   "metadata": {},
   "outputs": [],
   "source": [
    "# De-bug: Why is this returning blank?\n",
    "\n",
    "sql_query = '''\n",
    "            SELECT parcelid, id, bathroomcnt, bedroomcnt, calculatedbathnbr, calculatedfinishedsquarefeet, fips, latitude, longitude, regionidcounty, roomcnt, yearbuilt, taxvaluedollarcnt, assessmentyear, transactiondate, propertycountylandusecode, propertylandusetypeid\n",
    "            FROM properties_2017\n",
    "            JOIN predictions_2017 USING (parcelid, parcelid)\n",
    "            WHERE transactiondate BETWEEN '2017-05-01' AND '2017-06-30'\n",
    "            AND propertylandusetypeid = '261' OR '262' OR '263' OR '264' OR '268' OR '273' OR '274' OR '275' OR '276' OR '279';\n",
    "            '''\n",
    "df = pd.read_sql(sql_query, get_connection('zillow'))\n",
    "#df.to_csv('zillow_df.csv')\n",
    "df.head(3)"
   ]
  },
  {
   "cell_type": "code",
   "execution_count": null,
   "metadata": {},
   "outputs": [],
   "source": [
    "SELECT t.title AS Title, \n",
    "       COUNT(t.title) AS Count\n",
    "FROM titles AS t\n",
    "JOIN dept_emp AS de ON de.emp_no = t.emp_no \n",
    "    AND de.to_date > CURDATE() \n",
    "    AND t.to_date > CURDATE()\n",
    "JOIN departments AS d USING(dept_no)\n",
    "GROUP BY t.title;"
   ]
  },
  {
   "cell_type": "code",
   "execution_count": null,
   "metadata": {},
   "outputs": [],
   "source": [
    "df.shape"
   ]
  },
  {
   "cell_type": "code",
   "execution_count": null,
   "metadata": {},
   "outputs": [],
   "source": [
    "df.isnull().sum()\n",
    "\n",
    "# parcelid, id, bathroomcnt, bedroomcnt, calculatedbathnbr, calculatedfinishedsquarefeet, fips, latitude, longitude, regionidcounty, roomcnt, yearbuilt, taxvaluedollarcnt, assessmentyear, transactiondate"
   ]
  },
  {
   "cell_type": "markdown",
   "metadata": {},
   "source": [
    "I'm going to go back to my SQL query and edit it to select only the columns that I want. I won't select columns that contain mostly null values.\n",
    "\n",
    "calculatedbathnbr has 55 null values, so I am going to recreate that variable on the next interation of my MVP with a combination of bathroomcnt and bedroomcnt. For now, I will leave it and impute the mean.\n",
    "\n",
    "If I have time in a future iteration I might use longitude and latitude with Geopy.\n",
    "\n",
    "Although regionidzip has only 10 missing values, I'm choosing to leave it out for now because I don't think imputing a median will give useful or near-accurate values, and for location I can use county, as that's what we've been asked to compare anyway.\n",
    "\n",
    "I'm also not selecting columns that have similar or duplicate information."
   ]
  },
  {
   "cell_type": "code",
   "execution_count": null,
   "metadata": {},
   "outputs": [],
   "source": [
    "#From Austin's code:\n",
    "\n",
    "SELECT p17.*, pt.propertylandusetypeid, pred17.logerror, pred17.transactiondate\n",
    "                FROM properties_2017 AS p17\n",
    "                JOIN propertylandusetype as pt ON p17.propertylandusetypeid = pt.propertylandusetypeid\n",
    "                JOIN predictions_2017 AS pred17 ON p17.parcelid = pred17.parcelid\n",
    "                WHERE pred17.transactiondate BETWEEN '2017-05-01' AND '2017-06-30'\n",
    "                AND pt.propertylandusetypeid <> 31 AND pt.propertylandusetypeid <> 46\n",
    "                AND pt.propertylandusetypeid <> 47 AND pt.propertylandusetypeid <> 267\n",
    "                AND pt.propertylandusetypeid <> 269 AND pt.propertylandusetypeid <> 270\n",
    "                AND pt.propertylandusetypeid <> 271 AND pt.propertylandusetypeid <> 274\n",
    "                AND pt.propertylandusetypeid <> 273 AND pt.propertylandusetypeid <> 290\n",
    "                AND pt.propertylandusetypeid <> 291"
   ]
  }
 ],
 "metadata": {
  "kernelspec": {
   "display_name": "Python 3",
   "language": "python",
   "name": "python3"
  },
  "language_info": {
   "codemirror_mode": {
    "name": "ipython",
    "version": 3
   },
   "file_extension": ".py",
   "mimetype": "text/x-python",
   "name": "python",
   "nbconvert_exporter": "python",
   "pygments_lexer": "ipython3",
   "version": "3.8.3"
  }
 },
 "nbformat": 4,
 "nbformat_minor": 4
}
