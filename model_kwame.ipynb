{
 "cells": [
  {
   "cell_type": "markdown",
   "metadata": {},
   "source": [
    "# Modeling"
   ]
  },
  {
   "cell_type": "markdown",
   "metadata": {},
   "source": [
    "### Our goal is to produce a regression model that outperforms the baseline in predicting the target value -- in this case, the assessed (e.g., not actual) value of a single-unit property.\n",
    "\n",
    "I will:\n",
    " * define the baseline and evaluate it on train and validate data\n",
    " * use automated feature selection to choose features for models\n",
    " * decide if I want to create any new features based on existing features\n",
    " * decide whether to drop features\n",
    " * choose which algorithms and hyperparameters I'd like to use first\n",
    " * create, fit, and transform models\n",
    " * evaluate on validate then tweak hyperparameters if needed\n",
    " * evaluate my model(s) on the test data set\n",
    " * create a model.py file to make this Modeling reproducible"
   ]
  },
  {
   "cell_type": "markdown",
   "metadata": {},
   "source": [
    "### To-do list:\n",
    "\n",
    " * use automated feature selection to choose features for models\n",
    " * decide if I want to create any new features based on existing features\n",
    " * decide whether to drop features\n",
    " * choose which algorithms and hyperparameters I'd like to use first\n",
    " * create, fit, and transform models\n",
    " * evaluate on validate then tweak hyperparameters if needed\n",
    " * evaluate my model(s) on the test data set\n",
    " * create a model.py file to make this Modeling reproducible"
   ]
  },
  {
   "cell_type": "markdown",
   "metadata": {},
   "source": [
    "## Imports"
   ]
  },
  {
   "cell_type": "code",
   "execution_count": 1,
   "metadata": {},
   "outputs": [],
   "source": [
    "import warnings\n",
    "warnings.filterwarnings(\"ignore\")\n",
    "\n",
    "import pandas as pd\n",
    "import numpy as np\n",
    "import matplotlib.pyplot as plt\n",
    "import seaborn as sns\n",
    "\n",
    "from sklearn.metrics import mean_squared_error, explained_variance_score\n",
    "from sklearn.linear_model import LinearRegression, TweedieRegressor\n",
    "from sklearn.feature_selection import RFE\n",
    "from sklearn.preprocessing import PolynomialFeatures\n",
    "from sklearn.model_selection import train_test_split\n",
    "\n",
    "from acquire_kwame import get_zillow_data\n",
    "from prepare_kwame import prepare_zillow"
   ]
  },
  {
   "cell_type": "markdown",
   "metadata": {},
   "source": [
    "## Acquire and Prepare Data"
   ]
  },
  {
   "cell_type": "code",
   "execution_count": 2,
   "metadata": {},
   "outputs": [
    {
     "data": {
      "text/html": [
       "<div>\n",
       "<style scoped>\n",
       "    .dataframe tbody tr th:only-of-type {\n",
       "        vertical-align: middle;\n",
       "    }\n",
       "\n",
       "    .dataframe tbody tr th {\n",
       "        vertical-align: top;\n",
       "    }\n",
       "\n",
       "    .dataframe thead th {\n",
       "        text-align: right;\n",
       "    }\n",
       "</style>\n",
       "<table border=\"1\" class=\"dataframe\">\n",
       "  <thead>\n",
       "    <tr style=\"text-align: right;\">\n",
       "      <th></th>\n",
       "      <th>parcelid</th>\n",
       "      <th>id</th>\n",
       "      <th>bathroomcnt</th>\n",
       "      <th>bedroomcnt</th>\n",
       "      <th>calculatedfinishedsquarefeet</th>\n",
       "      <th>taxvaluedollarcnt</th>\n",
       "    </tr>\n",
       "  </thead>\n",
       "  <tbody>\n",
       "    <tr>\n",
       "      <th>55990</th>\n",
       "      <td>10794022</td>\n",
       "      <td>2161904</td>\n",
       "      <td>2.0</td>\n",
       "      <td>2.0</td>\n",
       "      <td>920.0</td>\n",
       "      <td>291160.0</td>\n",
       "    </tr>\n",
       "    <tr>\n",
       "      <th>6478</th>\n",
       "      <td>11017636</td>\n",
       "      <td>207554</td>\n",
       "      <td>3.0</td>\n",
       "      <td>4.0</td>\n",
       "      <td>2159.0</td>\n",
       "      <td>429683.0</td>\n",
       "    </tr>\n",
       "    <tr>\n",
       "      <th>231</th>\n",
       "      <td>14394667</td>\n",
       "      <td>1369676</td>\n",
       "      <td>3.0</td>\n",
       "      <td>4.0</td>\n",
       "      <td>3309.0</td>\n",
       "      <td>1452674.0</td>\n",
       "    </tr>\n",
       "  </tbody>\n",
       "</table>\n",
       "</div>"
      ],
      "text/plain": [
       "       parcelid       id  bathroomcnt  bedroomcnt  \\\n",
       "55990  10794022  2161904          2.0         2.0   \n",
       "6478   11017636   207554          3.0         4.0   \n",
       "231    14394667  1369676          3.0         4.0   \n",
       "\n",
       "       calculatedfinishedsquarefeet  taxvaluedollarcnt  \n",
       "55990                         920.0           291160.0  \n",
       "6478                         2159.0           429683.0  \n",
       "231                          3309.0          1452674.0  "
      ]
     },
     "execution_count": 2,
     "metadata": {},
     "output_type": "execute_result"
    }
   ],
   "source": [
    "df, train, validate, test, X_train, X_validate, X_test, y_train, y_validate, y_test = prepare_zillow()\n",
    "train.head(3)"
   ]
  },
  {
   "cell_type": "markdown",
   "metadata": {},
   "source": [
    "## Summarize Data"
   ]
  },
  {
   "cell_type": "code",
   "execution_count": 3,
   "metadata": {},
   "outputs": [
    {
     "data": {
      "text/plain": [
       "count    4.333100e+04\n",
       "mean     4.906478e+05\n",
       "std      6.688796e+05\n",
       "min      3.254000e+03\n",
       "25%      2.068980e+05\n",
       "50%      3.590730e+05\n",
       "75%      5.696535e+05\n",
       "max      4.906124e+07\n",
       "Name: taxvaluedollarcnt, dtype: float64"
      ]
     },
     "execution_count": 3,
     "metadata": {},
     "output_type": "execute_result"
    }
   ],
   "source": [
    "y_train.describe()"
   ]
  },
  {
   "cell_type": "code",
   "execution_count": 4,
   "metadata": {},
   "outputs": [
    {
     "data": {
      "text/plain": [
       "(11240.0, 10061240.0)"
      ]
     },
     "execution_count": 4,
     "metadata": {},
     "output_type": "execute_result"
    },
    {
     "data": {
      "image/png": "[encoded data removed]",
      "text/plain": [
       "<Figure size 432x288 with 1 Axes>"
      ]
     },
     "metadata": {
      "needs_background": "light"
     },
     "output_type": "display_data"
    }
   ],
   "source": [
    "sns.distplot(y_train)\n",
    "plt.title('Distribution of y_train data (by the Million)')\n",
    "plt.xlabel('Assessed value of the property (in Millions USD)')\n",
    "plt.xlim(right=1.006124e+07)\n",
    "plt.xlim(left=0.001124e+07)"
   ]
  },
  {
   "cell_type": "code",
   "execution_count": 5,
   "metadata": {},
   "outputs": [
    {
     "data": {
      "text/plain": [
       "(44011240.0, 49961240.0)"
      ]
     },
     "execution_count": 5,
     "metadata": {},
     "output_type": "execute_result"
    },
    {
     "data": {
      "image/png": "[encoded data removed]",
      "text/plain": [
       "<Figure size 432x288 with 1 Axes>"
      ]
     },
     "metadata": {
      "needs_background": "light"
     },
     "output_type": "display_data"
    }
   ],
   "source": [
    "sns.distplot(y_train)\n",
    "plt.title('Distribution of y_train data (by the Million), continued')\n",
    "plt.xlabel('Assessed value of the property (in Millions USD)')\n",
    "plt.xlim(right=4.996124e+07)\n",
    "plt.xlim(left=4.401124e+07)"
   ]
  },
  {
   "cell_type": "markdown",
   "metadata": {},
   "source": [
    "The data has a Normal Distribution and is skewed right."
   ]
  },
  {
   "cell_type": "code",
   "execution_count": 6,
   "metadata": {},
   "outputs": [
    {
     "data": {
      "text/plain": [
       "2.0     17630\n",
       "3.0      9767\n",
       "1.0      7229\n",
       "2.5      3746\n",
       "4.0      1903\n",
       "1.5       762\n",
       "5.0       563\n",
       "3.5       562\n",
       "4.5       396\n",
       "6.0       242\n",
       "0.0       227\n",
       "5.5       129\n",
       "7.0        58\n",
       "8.0        54\n",
       "6.5        30\n",
       "9.0        12\n",
       "7.5        12\n",
       "10.0        4\n",
       "11.0        2\n",
       "18.0        1\n",
       "8.5         1\n",
       "13.0        1\n",
       "Name: bathroomcnt, dtype: int64"
      ]
     },
     "execution_count": 6,
     "metadata": {},
     "output_type": "execute_result"
    }
   ],
   "source": [
    "train.bathroomcnt.value_counts()"
   ]
  },
  {
   "cell_type": "code",
   "execution_count": 7,
   "metadata": {},
   "outputs": [
    {
     "data": {
      "text/plain": [
       "Index(['parcelid', 'id', 'bathroomcnt', 'bedroomcnt',\n",
       "       'calculatedfinishedsquarefeet', 'taxvaluedollarcnt'],\n",
       "      dtype='object')"
      ]
     },
     "execution_count": 7,
     "metadata": {},
     "output_type": "execute_result"
    }
   ],
   "source": [
    "train.columns"
   ]
  },
  {
   "cell_type": "code",
   "execution_count": 8,
   "metadata": {},
   "outputs": [
    {
     "data": {
      "text/plain": [
       "1120.0    105\n",
       "1200.0    101\n",
       "1440.0     82\n",
       "1400.0     76\n",
       "1080.0     72\n",
       "         ... \n",
       "5940.0      1\n",
       "4475.0      1\n",
       "4871.0      1\n",
       "5300.0      1\n",
       "3884.0      1\n",
       "Name: calculatedfinishedsquarefeet, Length: 4391, dtype: int64"
      ]
     },
     "execution_count": 8,
     "metadata": {},
     "output_type": "execute_result"
    }
   ],
   "source": [
    "train.calculatedfinishedsquarefeet.value_counts()"
   ]
  },
  {
   "cell_type": "markdown",
   "metadata": {},
   "source": [
    "## Define and Evaluate Baseline"
   ]
  },
  {
   "cell_type": "code",
   "execution_count": 9,
   "metadata": {},
   "outputs": [
    {
     "data": {
      "text/plain": [
       "490647.81188987097"
      ]
     },
     "execution_count": 9,
     "metadata": {},
     "output_type": "execute_result"
    }
   ],
   "source": [
    "np.mean(y_train)\n",
    "# np.median(y_train)"
   ]
  },
  {
   "cell_type": "code",
   "execution_count": 10,
   "metadata": {},
   "outputs": [
    {
     "data": {
      "text/plain": [
       "(43331,)"
      ]
     },
     "execution_count": 10,
     "metadata": {},
     "output_type": "execute_result"
    }
   ],
   "source": [
    "y_train.shape"
   ]
  },
  {
   "cell_type": "markdown",
   "metadata": {},
   "source": [
    "I was going to use the median, because I noticed some outliers in the y_train data, but upon evaluating on train and validate, I found that the mean performed better."
   ]
  },
  {
   "cell_type": "code",
   "execution_count": 11,
   "metadata": {},
   "outputs": [
    {
     "name": "stdout",
     "output_type": "stream",
     "text": [
      "RMSE (Root Mean Square Error) of Baseline on train data:\n",
      " 223694795090.09143\n",
      "RMSE (Root Mean Square Error) of Baseline on validate data:\n",
      " 180278256025.62784\n"
     ]
    }
   ],
   "source": [
    "baseline = y_train.mean()\n",
    "\n",
    "baseline_rmse_train = mean_squared_error(y_train, np.full(len(y_train), baseline))**1/2\n",
    "print('RMSE (Root Mean Square Error) of Baseline on train data:\\n', baseline_rmse_train)\n",
    "baseline_rmse_validate = mean_squared_error(y_validate, np.full(len(y_validate), baseline))**1/2\n",
    "print('RMSE (Root Mean Square Error) of Baseline on validate data:\\n', baseline_rmse_validate)"
   ]
  },
  {
   "cell_type": "markdown",
   "metadata": {},
   "source": [
    "## Feature Engineering"
   ]
  },
  {
   "cell_type": "markdown",
   "metadata": {},
   "source": [
    "### Create a New Feature\n",
    "\n",
    "On next iteration of MVP (time allowing) I will also create a feature that is the ratio of bath+bed count to square footage."
   ]
  },
  {
   "cell_type": "code",
   "execution_count": 12,
   "metadata": {},
   "outputs": [
    {
     "data": {
      "text/plain": [
       "Index(['parcelid', 'id', 'bathroomcnt', 'bedroomcnt',\n",
       "       'calculatedfinishedsquarefeet'],\n",
       "      dtype='object')"
      ]
     },
     "execution_count": 12,
     "metadata": {},
     "output_type": "execute_result"
    }
   ],
   "source": [
    "X_train.columns"
   ]
  },
  {
   "cell_type": "code",
   "execution_count": 13,
   "metadata": {},
   "outputs": [
    {
     "data": {
      "text/html": [
       "<div>\n",
       "<style scoped>\n",
       "    .dataframe tbody tr th:only-of-type {\n",
       "        vertical-align: middle;\n",
       "    }\n",
       "\n",
       "    .dataframe tbody tr th {\n",
       "        vertical-align: top;\n",
       "    }\n",
       "\n",
       "    .dataframe thead th {\n",
       "        text-align: right;\n",
       "    }\n",
       "</style>\n",
       "<table border=\"1\" class=\"dataframe\">\n",
       "  <thead>\n",
       "    <tr style=\"text-align: right;\">\n",
       "      <th></th>\n",
       "      <th>parcelid</th>\n",
       "      <th>id</th>\n",
       "      <th>bathroomcnt</th>\n",
       "      <th>bedroomcnt</th>\n",
       "      <th>calculatedfinishedsquarefeet</th>\n",
       "      <th>bathbedcnt</th>\n",
       "    </tr>\n",
       "  </thead>\n",
       "  <tbody>\n",
       "    <tr>\n",
       "      <th>55990</th>\n",
       "      <td>10794022</td>\n",
       "      <td>2161904</td>\n",
       "      <td>2.0</td>\n",
       "      <td>2.0</td>\n",
       "      <td>920.0</td>\n",
       "      <td>4.0</td>\n",
       "    </tr>\n",
       "    <tr>\n",
       "      <th>6478</th>\n",
       "      <td>11017636</td>\n",
       "      <td>207554</td>\n",
       "      <td>3.0</td>\n",
       "      <td>4.0</td>\n",
       "      <td>2159.0</td>\n",
       "      <td>7.0</td>\n",
       "    </tr>\n",
       "    <tr>\n",
       "      <th>231</th>\n",
       "      <td>14394667</td>\n",
       "      <td>1369676</td>\n",
       "      <td>3.0</td>\n",
       "      <td>4.0</td>\n",
       "      <td>3309.0</td>\n",
       "      <td>7.0</td>\n",
       "    </tr>\n",
       "    <tr>\n",
       "      <th>8648</th>\n",
       "      <td>10729885</td>\n",
       "      <td>717282</td>\n",
       "      <td>2.0</td>\n",
       "      <td>4.0</td>\n",
       "      <td>1570.0</td>\n",
       "      <td>6.0</td>\n",
       "    </tr>\n",
       "    <tr>\n",
       "      <th>32526</th>\n",
       "      <td>14138791</td>\n",
       "      <td>369561</td>\n",
       "      <td>2.0</td>\n",
       "      <td>3.0</td>\n",
       "      <td>1325.0</td>\n",
       "      <td>5.0</td>\n",
       "    </tr>\n",
       "  </tbody>\n",
       "</table>\n",
       "</div>"
      ],
      "text/plain": [
       "       parcelid       id  bathroomcnt  bedroomcnt  \\\n",
       "55990  10794022  2161904          2.0         2.0   \n",
       "6478   11017636   207554          3.0         4.0   \n",
       "231    14394667  1369676          3.0         4.0   \n",
       "8648   10729885   717282          2.0         4.0   \n",
       "32526  14138791   369561          2.0         3.0   \n",
       "\n",
       "       calculatedfinishedsquarefeet  bathbedcnt  \n",
       "55990                         920.0         4.0  \n",
       "6478                         2159.0         7.0  \n",
       "231                          3309.0         7.0  \n",
       "8648                         1570.0         6.0  \n",
       "32526                        1325.0         5.0  "
      ]
     },
     "execution_count": 13,
     "metadata": {},
     "output_type": "execute_result"
    }
   ],
   "source": [
    "train['bathbedcnt'] = X_train.bathroomcnt + X_train.bedroomcnt\n",
    "validate['bathbedcnt'] = X_validate.bathroomcnt + X_validate.bedroomcnt\n",
    "test['bathbedcnt'] = X_test.bathroomcnt + X_test.bedroomcnt\n",
    "\n",
    "X_train['bathbedcnt'] = X_train.bathroomcnt + X_train.bedroomcnt\n",
    "X_validate['bathbedcnt'] = X_validate.bathroomcnt + X_validate.bedroomcnt\n",
    "X_test['bathbedcnt'] = X_test.bathroomcnt + X_test.bedroomcnt\n",
    "\n",
    "y_train['bathbedcnt'] = X_train.bathroomcnt + X_train.bedroomcnt\n",
    "y_validate['bathbedcnt'] = X_validate.bathroomcnt + X_validate.bedroomcnt\n",
    "y_test['bathbedcnt'] = X_test.bathroomcnt + X_test.bedroomcnt\n",
    "\n",
    "X_train.head()"
   ]
  },
  {
   "cell_type": "markdown",
   "metadata": {},
   "source": [
    "### Choose Features - Recursive Feature Elimination: RFE"
   ]
  },
  {
   "cell_type": "markdown",
   "metadata": {},
   "source": [
    "[ Next step here ]"
   ]
  },
  {
   "cell_type": "code",
   "execution_count": 14,
   "metadata": {},
   "outputs": [
    {
     "data": {
      "text/plain": [
       "Index(['parcelid', 'id', 'bathroomcnt', 'bedroomcnt',\n",
       "       'calculatedfinishedsquarefeet', 'bathbedcnt'],\n",
       "      dtype='object')"
      ]
     },
     "execution_count": 14,
     "metadata": {},
     "output_type": "execute_result"
    }
   ],
   "source": [
    "X_train.columns"
   ]
  },
  {
   "cell_type": "code",
   "execution_count": 15,
   "metadata": {},
   "outputs": [],
   "source": [
    "# prep data\n",
    "\n",
    "train, test = train_test_split(df, random_state=123, train_size=.80)\n",
    "\n",
    "x_cols = ['bathroomcnt', 'bedroomcnt',\n",
    "       'calculatedfinishedsquarefeet', 'bathbedcnt']\n",
    "\n",
    "train['bathbedcnt'] = train.bathroomcnt + train.bedroomcnt\n",
    "test['bathbedcnt'] = test.bathroomcnt + test.bedroomcnt\n",
    "\n",
    "X_train['bathbedcnt'] = train.bathroomcnt + train.bedroomcnt\n",
    "X_test['bathbedcnt'] = test.bathroomcnt + test.bedroomcnt\n",
    "\n",
    "y_train['bathbedcnt'] = train.bathroomcnt + train.bedroomcnt\n",
    "y_test['bathbedcnt'] = test.bathroomcnt + test.bedroomcnt\n",
    "\n",
    "X_train_rfe = train[x_cols]\n",
    "y_train_rfe = train.taxvaluedollarcnt\n",
    "\n",
    "X_test_rfe = test[x_cols]\n",
    "y_test_rfe = test.taxvaluedollarcnt"
   ]
  },
  {
   "cell_type": "code",
   "execution_count": 16,
   "metadata": {},
   "outputs": [
    {
     "data": {
      "text/plain": [
       "(61902, 7)"
      ]
     },
     "execution_count": 16,
     "metadata": {},
     "output_type": "execute_result"
    }
   ],
   "source": [
    "train = train.dropna()\n",
    "test = train.dropna()\n",
    "\n",
    "X_train = train.dropna()\n",
    "X_test = train.dropna()\n",
    "\n",
    "y_train = train.dropna()\n",
    "y_test = train.dropna()\n",
    "\n",
    "y_train_rfe = train.dropna()\n",
    "y_test_rfe = train.dropna()\n",
    "\n",
    "X_train.shape"
   ]
  },
  {
   "cell_type": "code",
   "execution_count": 17,
   "metadata": {
    "scrolled": true
   },
   "outputs": [
    {
     "data": {
      "text/plain": [
       "array([False,  True, False,  True])"
      ]
     },
     "execution_count": 17,
     "metadata": {},
     "output_type": "execute_result"
    }
   ],
   "source": [
    "k = 2\n",
    "\n",
    "# create and fit linear regression object\n",
    "lm = LinearRegression(normalize = True)\n",
    "lm.fit(X_train_rfe, y_train_rfe)\n",
    "# create and fit the rfe object\n",
    "rfe = RFE(lm, k)\n",
    "rfe.fit(X_train_rfe, y_train_rfe)\n",
    "X_train_rfe.columns[rfe.support_]\n",
    "\n",
    "rfe.support_"
   ]
  },
  {
   "cell_type": "code",
   "execution_count": 18,
   "metadata": {},
   "outputs": [
    {
     "name": "stdout",
     "output_type": "stream",
     "text": [
      "RFE Selected Features:\n",
      " Index(['bedroomcnt', 'bathbedcnt'], dtype='object')\n"
     ]
    }
   ],
   "source": [
    "print('RFE Selected Features:\\n', X_train_rfe.columns[rfe.support_])"
   ]
  },
  {
   "cell_type": "code",
   "execution_count": 19,
   "metadata": {},
   "outputs": [
    {
     "data": {
      "text/html": [
       "<div>\n",
       "<style scoped>\n",
       "    .dataframe tbody tr th:only-of-type {\n",
       "        vertical-align: middle;\n",
       "    }\n",
       "\n",
       "    .dataframe tbody tr th {\n",
       "        vertical-align: top;\n",
       "    }\n",
       "\n",
       "    .dataframe thead th {\n",
       "        text-align: right;\n",
       "    }\n",
       "</style>\n",
       "<table border=\"1\" class=\"dataframe\">\n",
       "  <thead>\n",
       "    <tr style=\"text-align: right;\">\n",
       "      <th></th>\n",
       "      <th>parcelid</th>\n",
       "      <th>id</th>\n",
       "      <th>bathroomcnt</th>\n",
       "      <th>bedroomcnt</th>\n",
       "      <th>calculatedfinishedsquarefeet</th>\n",
       "      <th>taxvaluedollarcnt</th>\n",
       "      <th>bathbedcnt</th>\n",
       "    </tr>\n",
       "  </thead>\n",
       "  <tbody>\n",
       "    <tr>\n",
       "      <th>33409</th>\n",
       "      <td>11158830</td>\n",
       "      <td>2490010</td>\n",
       "      <td>4.0</td>\n",
       "      <td>5.0</td>\n",
       "      <td>3583.0</td>\n",
       "      <td>583569.0</td>\n",
       "      <td>9.0</td>\n",
       "    </tr>\n",
       "    <tr>\n",
       "      <th>17578</th>\n",
       "      <td>10766164</td>\n",
       "      <td>896246</td>\n",
       "      <td>2.0</td>\n",
       "      <td>4.0</td>\n",
       "      <td>1748.0</td>\n",
       "      <td>56898.0</td>\n",
       "      <td>6.0</td>\n",
       "    </tr>\n",
       "    <tr>\n",
       "      <th>64621</th>\n",
       "      <td>11590590</td>\n",
       "      <td>2360408</td>\n",
       "      <td>2.0</td>\n",
       "      <td>2.0</td>\n",
       "      <td>1397.0</td>\n",
       "      <td>944181.0</td>\n",
       "      <td>4.0</td>\n",
       "    </tr>\n",
       "  </tbody>\n",
       "</table>\n",
       "</div>"
      ],
      "text/plain": [
       "       parcelid       id  bathroomcnt  bedroomcnt  \\\n",
       "33409  11158830  2490010          4.0         5.0   \n",
       "17578  10766164   896246          2.0         4.0   \n",
       "64621  11590590  2360408          2.0         2.0   \n",
       "\n",
       "       calculatedfinishedsquarefeet  taxvaluedollarcnt  bathbedcnt  \n",
       "33409                        3583.0           583569.0         9.0  \n",
       "17578                        1748.0            56898.0         6.0  \n",
       "64621                        1397.0           944181.0         4.0  "
      ]
     },
     "execution_count": 19,
     "metadata": {},
     "output_type": "execute_result"
    }
   ],
   "source": [
    "X_train.head(3)"
   ]
  },
  {
   "cell_type": "markdown",
   "metadata": {},
   "source": [
    "### Based on my RFE results, I will use bedroomcnt and bathbedcnt as our predicter features."
   ]
  },
  {
   "cell_type": "markdown",
   "metadata": {},
   "source": [
    "## Make Models, Evaluate Models, and Test Models"
   ]
  },
  {
   "cell_type": "markdown",
   "metadata": {},
   "source": [
    "### Ordinary Least Squares (OLS) using LinearRegression\n",
    "\n",
    "1. Fit the model using X_train_scaled and the labels from y_train.\n",
    "2. Predict final grade for students in training sample using our model (lm).\n",
    "3. Evaluate using RMSE\n",
    "4. Repeat predictions and evaluation for validation.\n",
    "5. Compare RMSE train vs. validation. Overfitting?"
   ]
  },
  {
   "cell_type": "code",
   "execution_count": null,
   "metadata": {},
   "outputs": [],
   "source": []
  },
  {
   "cell_type": "code",
   "execution_count": 24,
   "metadata": {},
   "outputs": [
    {
     "name": "stdout",
     "output_type": "stream",
     "text": [
      "RMSE for OLS using LinearRegression on train data:\n",
      " 5.588181888996218e-19 \n",
      "\n",
      " On test data:\n",
      " 5.588181888996218e-19\n"
     ]
    }
   ],
   "source": [
    "# create the model object\n",
    "lm = LinearRegression(normalize=True)\n",
    "\n",
    "# fit the model to our training data.\n",
    "lm.fit(X_train, y_train.taxvaluedollarcnt)\n",
    "\n",
    "# predict train\n",
    "y_train['taxvaluedollarcnt_pred_lm'] = lm.predict(X_train)\n",
    "\n",
    "# evaluate: rmse\n",
    "rmse_train = mean_squared_error(y_train.taxvaluedollarcnt, y_train.taxvaluedollarcnt_pred_lm)**1/2\n",
    "\n",
    "# predict validate\n",
    "y_test['taxvaluedollarcnt_pred_lm'] = lm.predict(X_test)\n",
    "\n",
    "# evaluate: rmse\n",
    "rmse_test = mean_squared_error(y_test.taxvaluedollarcnt, y_test.taxvaluedollarcnt_pred_lm)**1/2\n",
    "\n",
    "print(\"RMSE for OLS using LinearRegression on train data:\\n\", rmse_train, '\\n\\n', \n",
    "      \"On test data:\\n\", rmse_test)"
   ]
  },
  {
   "cell_type": "markdown",
   "metadata": {},
   "source": [
    "### Second Model"
   ]
  },
  {
   "cell_type": "code",
   "execution_count": null,
   "metadata": {},
   "outputs": [],
   "source": []
  },
  {
   "cell_type": "markdown",
   "metadata": {},
   "source": [
    "### Third Model"
   ]
  },
  {
   "cell_type": "code",
   "execution_count": null,
   "metadata": {},
   "outputs": [],
   "source": []
  },
  {
   "cell_type": "markdown",
   "metadata": {},
   "source": [
    "## Create Model.py file"
   ]
  },
  {
   "cell_type": "markdown",
   "metadata": {},
   "source": [
    "See project repo for the file."
   ]
  },
  {
   "cell_type": "markdown",
   "metadata": {},
   "source": [
    "[ Done with Model MVP when you reach here ]"
   ]
  },
  {
   "cell_type": "code",
   "execution_count": null,
   "metadata": {},
   "outputs": [],
   "source": []
  },
  {
   "cell_type": "code",
   "execution_count": null,
   "metadata": {},
   "outputs": [],
   "source": []
  },
  {
   "cell_type": "code",
   "execution_count": null,
   "metadata": {},
   "outputs": [],
   "source": []
  }
 ],
 "metadata": {
  "kernelspec": {
   "display_name": "Python 3",
   "language": "python",
   "name": "python3"
  },
  "language_info": {
   "codemirror_mode": {
    "name": "ipython",
    "version": 3
   },
   "file_extension": ".py",
   "mimetype": "text/x-python",
   "name": "python",
   "nbconvert_exporter": "python",
   "pygments_lexer": "ipython3",
   "version": "3.8.3"
  }
 },
 "nbformat": 4,
 "nbformat_minor": 4
}
