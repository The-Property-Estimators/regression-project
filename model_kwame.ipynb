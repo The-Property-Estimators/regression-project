{
 "cells": [
  {
   "cell_type": "markdown",
   "metadata": {},
   "source": [
    "# Modeling"
   ]
  },
  {
   "cell_type": "markdown",
   "metadata": {},
   "source": [
    "Our goal is to produce a regression model that outperforms the baseline in predicting the target value (in this case, the value of a single-unit property).\n",
    "\n",
    "I will:\n",
    " * define the baseline\n",
    " * use automated feature selection to choose features for models\n",
    " * decide if I want to create any new features based on existing features\n",
    " * decide whether to drop features\n",
    " * choose which algorithms and hyperparameters I'd like to use first\n",
    " * create, fit, and transform models\n",
    " * evaluate on validate then tweak hyperparameters if needed\n",
    " * evaluate my model(s) on the test data set\n",
    " * create a model.py file to make this Modeling reproducible"
   ]
  },
  {
   "cell_type": "code",
   "execution_count": null,
   "metadata": {},
   "outputs": [],
   "source": []
  }
 ],
 "metadata": {
  "kernelspec": {
   "display_name": "Python 3",
   "language": "python",
   "name": "python3"
  },
  "language_info": {
   "codemirror_mode": {
    "name": "ipython",
    "version": 3
   },
   "file_extension": ".py",
   "mimetype": "text/x-python",
   "name": "python",
   "nbconvert_exporter": "python",
   "pygments_lexer": "ipython3",
   "version": "3.8.3"
  }
 },
 "nbformat": 4,
 "nbformat_minor": 4
}
