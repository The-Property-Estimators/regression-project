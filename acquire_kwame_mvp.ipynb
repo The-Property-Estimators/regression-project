{
 "cells": [
  {
   "cell_type": "markdown",
   "metadata": {},
   "source": [
    "# Acquire MVP\n",
    "\n",
    "For the first iteration of your model, use only square feet of the home, number of bedrooms, and number of bathrooms to estimate the property's assessed value, taxvaluedollarcnt. You can expand this to other fields after you have completed an mvp (minimally viable product)."
   ]
  },
  {
   "cell_type": "markdown",
   "metadata": {},
   "source": [
    "### Imports and SQL Query"
   ]
  },
  {
   "cell_type": "markdown",
   "metadata": {},
   "source": [
    "Import packages, database credentials, and get_connection function."
   ]
  },
  {
   "cell_type": "code",
   "execution_count": 1,
   "metadata": {},
   "outputs": [],
   "source": [
    "import pandas as pd\n",
    "import numpy as np\n",
    "\n",
    "import os\n",
    "\n",
    "from env import host, user, password\n",
    "\n",
    "def get_connection(db, user=user, host=host, password=password):\n",
    "    return f'mysql+pymysql://{user}:{password}@{host}/{db}'"
   ]
  },
  {
   "cell_type": "markdown",
   "metadata": {},
   "source": [
    "I'll also set my SQL query up here rather than have it crowd the notebook further down, for readability's sake."
   ]
  },
  {
   "cell_type": "code",
   "execution_count": 2,
   "metadata": {},
   "outputs": [],
   "source": [
    "sql_query = '''\n",
    "            SELECT properties_2017.parcelid, properties_2017.id, bathroomcnt, bedroomcnt, calculatedbathnbr, calculatedfinishedsquarefeet, fips, latitude, longitude, regionidcounty, roomcnt, yearbuilt, taxvaluedollarcnt, assessmentyear, propertycountylandusecode, propertylandusetypeid\n",
    "            FROM properties_2017\n",
    "            JOIN predictions_2017 ON properties_2017.parcelid = predictions_2017.parcelid\n",
    "            WHERE transactiondate BETWEEN '2017-05-01' AND '2017-06-30'\n",
    "            AND propertylandusetypeid = '261' OR '262' OR '263' OR '264' OR '268' OR '273' OR '274' OR '275' OR '276' OR '279';\n",
    "            '''"
   ]
  },
  {
   "cell_type": "code",
   "execution_count": 7,
   "metadata": {},
   "outputs": [],
   "source": [
    "sql_query = ''''\n",
    "            SELECT properties_2017.parcelid, properties_2017.id, bathroomcnt, bedroomcnt, calculatedbathnbr, calculatedfinishedsquarefeet, fips, latitude, longitude, regionidcounty, roomcnt, yearbuilt, taxvaluedollarcnt, taxamount, assessmentyear, propertycountylandusecode, propertylandusetypeid, transactiondate\n",
    "            FROM properties_2017\n",
    "            JOIN predictions_2017 ON properties_2017.parcelid = predictions_2017.parcelid\n",
    "            WHERE transactiondate BETWEEN '2017-05-01' AND '2017-06-30'\n",
    "            AND propertylandusetypeid = '261' OR '262' OR '263' OR '264' OR '268' OR '273' OR '274' OR '275' OR '276' OR '279';\n",
    "            '''"
   ]
  },
  {
   "cell_type": "markdown",
   "metadata": {},
   "source": [
    "From https://help.rentingwell.com/article/multi-unit-vs-single-unit/:\n",
    "\n",
    "> A **multi-unit property** is a rental property that has been divided into multiple units that are rented independently to different tenants. A duplex, a triplex, or an apartment building would all be multi-unit properties.\n",
    "\n",
    "> A **single-unit property** is a rental property that is rented as a single entity. A condo, a townhouse, or a vacation rental would typically be single-unit properties."
   ]
  },
  {
   "cell_type": "markdown",
   "metadata": {},
   "source": [
    "We only want to predict on single-unit properties, so I will select only single-unit properties from the Zillow data in SQL:\n",
    " * **261 -** Single Family Residential\n",
    " * **262 -** Rural Residence\n",
    " * **263 -** Mobile Home\n",
    " * **264 -** Townhouse\n",
    " * **268 -** Row House\n",
    " * **273 -** Bungalow\n",
    " * **274 -** Zero Lot Line\n",
    " * **275 -** Manufactured, Modular, Prefabricated Homes\n",
    " * **276 -** Patio Home\n",
    " * **279 -** Inferred Single Family Residential\n",
    " \n",
    "---"
   ]
  },
  {
   "cell_type": "markdown",
   "metadata": {},
   "source": [
    "### Acquire Data"
   ]
  },
  {
   "cell_type": "markdown",
   "metadata": {},
   "source": [
    "Read the data from SQL into a dataframe and save that dataframe as a .csv locally."
   ]
  },
  {
   "cell_type": "code",
   "execution_count": 12,
   "metadata": {},
   "outputs": [
    {
     "data": {
      "text/html": [
       "<div>\n",
       "<style scoped>\n",
       "    .dataframe tbody tr th:only-of-type {\n",
       "        vertical-align: middle;\n",
       "    }\n",
       "\n",
       "    .dataframe tbody tr th {\n",
       "        vertical-align: top;\n",
       "    }\n",
       "\n",
       "    .dataframe thead th {\n",
       "        text-align: right;\n",
       "    }\n",
       "</style>\n",
       "<table border=\"1\" class=\"dataframe\">\n",
       "  <thead>\n",
       "    <tr style=\"text-align: right;\">\n",
       "      <th></th>\n",
       "      <th>parcelid</th>\n",
       "      <th>id</th>\n",
       "      <th>bathroomcnt</th>\n",
       "      <th>bedroomcnt</th>\n",
       "      <th>calculatedbathnbr</th>\n",
       "      <th>calculatedfinishedsquarefeet</th>\n",
       "      <th>fips</th>\n",
       "      <th>latitude</th>\n",
       "      <th>longitude</th>\n",
       "      <th>regionidcounty</th>\n",
       "      <th>roomcnt</th>\n",
       "      <th>yearbuilt</th>\n",
       "      <th>taxvaluedollarcnt</th>\n",
       "      <th>assessmentyear</th>\n",
       "      <th>propertycountylandusecode</th>\n",
       "      <th>propertylandusetypeid</th>\n",
       "    </tr>\n",
       "  </thead>\n",
       "  <tbody>\n",
       "    <tr>\n",
       "      <th>0</th>\n",
       "      <td>14297519</td>\n",
       "      <td>1727539</td>\n",
       "      <td>3.5</td>\n",
       "      <td>4.0</td>\n",
       "      <td>3.5</td>\n",
       "      <td>3100.0</td>\n",
       "      <td>6059.0</td>\n",
       "      <td>33634931.0</td>\n",
       "      <td>-117869207.0</td>\n",
       "      <td>1286.0</td>\n",
       "      <td>0.0</td>\n",
       "      <td>1998.0</td>\n",
       "      <td>1023282.0</td>\n",
       "      <td>2016.0</td>\n",
       "      <td>122</td>\n",
       "      <td>261.0</td>\n",
       "    </tr>\n",
       "    <tr>\n",
       "      <th>1</th>\n",
       "      <td>17052889</td>\n",
       "      <td>1387261</td>\n",
       "      <td>1.0</td>\n",
       "      <td>2.0</td>\n",
       "      <td>1.0</td>\n",
       "      <td>1465.0</td>\n",
       "      <td>6111.0</td>\n",
       "      <td>34449266.0</td>\n",
       "      <td>-119281531.0</td>\n",
       "      <td>2061.0</td>\n",
       "      <td>5.0</td>\n",
       "      <td>1967.0</td>\n",
       "      <td>464000.0</td>\n",
       "      <td>2016.0</td>\n",
       "      <td>1110</td>\n",
       "      <td>261.0</td>\n",
       "    </tr>\n",
       "    <tr>\n",
       "      <th>2</th>\n",
       "      <td>14186244</td>\n",
       "      <td>11677</td>\n",
       "      <td>2.0</td>\n",
       "      <td>3.0</td>\n",
       "      <td>2.0</td>\n",
       "      <td>1243.0</td>\n",
       "      <td>6059.0</td>\n",
       "      <td>33886168.0</td>\n",
       "      <td>-117823170.0</td>\n",
       "      <td>1286.0</td>\n",
       "      <td>6.0</td>\n",
       "      <td>1962.0</td>\n",
       "      <td>564778.0</td>\n",
       "      <td>2016.0</td>\n",
       "      <td>122</td>\n",
       "      <td>261.0</td>\n",
       "    </tr>\n",
       "  </tbody>\n",
       "</table>\n",
       "</div>"
      ],
      "text/plain": [
       "   parcelid       id  bathroomcnt  bedroomcnt  calculatedbathnbr  \\\n",
       "0  14297519  1727539          3.5         4.0                3.5   \n",
       "1  17052889  1387261          1.0         2.0                1.0   \n",
       "2  14186244    11677          2.0         3.0                2.0   \n",
       "\n",
       "   calculatedfinishedsquarefeet    fips    latitude    longitude  \\\n",
       "0                        3100.0  6059.0  33634931.0 -117869207.0   \n",
       "1                        1465.0  6111.0  34449266.0 -119281531.0   \n",
       "2                        1243.0  6059.0  33886168.0 -117823170.0   \n",
       "\n",
       "   regionidcounty  roomcnt  yearbuilt  taxvaluedollarcnt  assessmentyear  \\\n",
       "0          1286.0      0.0     1998.0          1023282.0          2016.0   \n",
       "1          2061.0      5.0     1967.0           464000.0          2016.0   \n",
       "2          1286.0      6.0     1962.0           564778.0          2016.0   \n",
       "\n",
       "  propertycountylandusecode  propertylandusetypeid  \n",
       "0                       122                  261.0  \n",
       "1                      1110                  261.0  \n",
       "2                       122                  261.0  "
      ]
     },
     "execution_count": 12,
     "metadata": {},
     "output_type": "execute_result"
    }
   ],
   "source": [
    "filename = \"zillow_df.csv\"\n",
    "if os.path.isfile(filename):\n",
    "    df = pd.read_csv(filename)\n",
    "    #drop second index column\n",
    "    df = df.drop(columns=['Unnamed: 0'])\n",
    "else:\n",
    "    # read the SQL query into a dataframe\n",
    "    df = pd.read_sql(sql_query, get_connection('zillow'))\n",
    "    #drop second index column\n",
    "    df = df.drop(columns=['Unnamed: 0'])\n",
    "    # Write that dataframe to disk for later. Called \"caching\" the data for later.\n",
    "    df.to_file(filename)\n",
    "df.head(3)"
   ]
  },
  {
   "cell_type": "code",
   "execution_count": 13,
   "metadata": {},
   "outputs": [
    {
     "data": {
      "text/plain": [
       "Index(['parcelid', 'id', 'bathroomcnt', 'bedroomcnt', 'calculatedbathnbr',\n",
       "       'calculatedfinishedsquarefeet', 'fips', 'latitude', 'longitude',\n",
       "       'regionidcounty', 'roomcnt', 'yearbuilt', 'taxvaluedollarcnt',\n",
       "       'assessmentyear', 'propertycountylandusecode', 'propertylandusetypeid'],\n",
       "      dtype='object')"
      ]
     },
     "execution_count": 13,
     "metadata": {},
     "output_type": "execute_result"
    }
   ],
   "source": [
    "df.columns"
   ]
  },
  {
   "cell_type": "markdown",
   "metadata": {},
   "source": [
    "### Summarize Data"
   ]
  },
  {
   "cell_type": "code",
   "execution_count": 14,
   "metadata": {},
   "outputs": [
    {
     "name": "stdout",
     "output_type": "stream",
     "text": [
      "The shape of the original dataframe:\n",
      " 77614 rows and 16 columns.\n"
     ]
    }
   ],
   "source": [
    "print(f\"The shape of the original dataframe:\\n {df.shape[0]} rows and {df.shape[1]} columns.\")"
   ]
  },
  {
   "cell_type": "code",
   "execution_count": 15,
   "metadata": {},
   "outputs": [
    {
     "data": {
      "text/plain": [
       "parcelid                          0\n",
       "id                                0\n",
       "bathroomcnt                      34\n",
       "bedroomcnt                       34\n",
       "calculatedbathnbr               650\n",
       "calculatedfinishedsquarefeet    235\n",
       "fips                             34\n",
       "latitude                         34\n",
       "longitude                        34\n",
       "regionidcounty                   34\n",
       "roomcnt                          34\n",
       "yearbuilt                       304\n",
       "taxvaluedollarcnt                35\n",
       "assessmentyear                   34\n",
       "propertycountylandusecode        34\n",
       "propertylandusetypeid            34\n",
       "dtype: int64"
      ]
     },
     "execution_count": 15,
     "metadata": {},
     "output_type": "execute_result"
    }
   ],
   "source": [
    "# I am running this line iteratively throughout acquire.\n",
    "df.isnull().sum()"
   ]
  },
  {
   "cell_type": "markdown",
   "metadata": {},
   "source": [
    "**Iteration 1**\n",
    "\n",
    "I'm going to go back to my SQL query and edit it to select only the columns that I want. I won't select columns that contain mostly null values.\n",
    "\n",
    "calculatedbathnbr has 55 null values, so I am going to recreate that variable on the next interation of my MVP with a combination of bathroomcnt and bedroomcnt. For now, I will leave it and impute the nulls with bathroom + bedroomcnt.\n",
    "\n",
    "If I have time in a future iteration I might use longitude and latitude with Geopy.\n",
    "\n",
    "Although regionidzip has only 10 missing values, I'm choosing to leave it out for now because I don't think imputing a median will give useful or near-accurate values, and for location I can use county, as that's what we've been asked to compare anyway.\n",
    "\n",
    "I'm also not selecting columns that have similar or duplicate information.\n",
    "\n",
    "---\n",
    "\n",
    "**Iteration 2**\n",
    "\n",
    "I see that there are many columns that have 34 null values, so I will drop those null-heavy rows.\n",
    "\n",
    "For this, I will continue to the next stage of the pipeline, Prepare, in the prepare_kwame.ipynb notebook.\n",
    "\n",
    "Before I do that, however, I must create an acquire_kwame.py file so that I can make the code in this notebook into functions that I can import into prepare_kwame.ipynb and then into prepare_kwame.py as well. I'll also add the code to cache the .csv in the .py file.\n",
    "\n",
    "In the next iteration I can summarize the data in more ways and show distributions. Remember not to compare variables until the train, validate, test split.\n",
    "\n",
    "---"
   ]
  }
 ],
 "metadata": {
  "kernelspec": {
   "display_name": "Python 3",
   "language": "python",
   "name": "python3"
  },
  "language_info": {
   "codemirror_mode": {
    "name": "ipython",
    "version": 3
   },
   "file_extension": ".py",
   "mimetype": "text/x-python",
   "name": "python",
   "nbconvert_exporter": "python",
   "pygments_lexer": "ipython3",
   "version": "3.8.3"
  }
 },
 "nbformat": 4,
 "nbformat_minor": 4
}
